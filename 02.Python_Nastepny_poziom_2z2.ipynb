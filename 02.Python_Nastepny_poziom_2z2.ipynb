{
 "cells": [
  {
   "cell_type": "markdown",
   "metadata": {},
   "source": [
    "\n",
    "\n",
    "\n",
    "# <div style=\"font-size: xxx-large\">Python 2 - Następny poziom </div>\n",
    "### <div style=\"font-size: xx-large\">Wprowadzenie do <span style=\"color: cyan\">programowania funkcjonalnego</span></div>\n",
    "---\n",
    "## <div style=\"font-size: xx-large\">Paradygmaty programistycznie</div>\n",
    "- ## Programowanie imperatywne - `if`, `for`, `while`\n",
    "   - ### Programowanie proceduralne - tworzenie procedur, funkcji\n",
    "- ## Programowanie <span style=\"color: cyan\"><span style=\"color: cyan\">funkcjonalne</span>\n",
    "- ## Programowanie obiektowe\n",
    "- ## Metaprogramowanie\n",
    " \n",
    "---"
   ]
  },
  {
   "attachments": {},
   "cell_type": "markdown",
   "metadata": {},
   "source": [
    "W programowaniu funkcjonalnym staramy się całą logikę programu oprzec na dzialaniu funkcji w takim rozumieniu czysto matematycznym - funkcja ma argumenty, zwraca wartość, nie ma side effects"
   ]
  },
  {
   "cell_type": "markdown",
   "metadata": {},
   "source": [
    "- Funkcje jako __*first-class citizens*__\n",
    "- Iteratory\n",
    "- Generatory\n",
    "- List comprehensions\n",
    "- Domknięcia/Closures\n",
    "- Wyrażenia Lambda \n",
    "- Funkcje wyższego rzędu\n",
    "  - Funkcje wyższego rzędu z biblioteki standardowej\n",
    "    - `map()`\n",
    "    - `filter()`\n",
    "    - `reduce()`\n",
    "  - Leniwa Ewaluacja\n",
    "  - `Functools`\n",
    "  - `Itertools`\n",
    "  - Currying (Schoenfinkelizacja)\n",
    "- Dekoratory funkcji"
   ]
  },
  {
   "cell_type": "markdown",
   "metadata": {},
   "source": [
    "----\n",
    "# Funkcje jako __*first-class citizens*__"
   ]
  },
  {
   "cell_type": "code",
   "execution_count": 1,
   "metadata": {},
   "outputs": [],
   "source": [
    "def print_log(message):\n",
    "    print(message)\n",
    "    \n",
    "def noop_log(message):\n",
    "    pass\n",
    "\n",
    "def get_log(mode):  # ta funkcja zwraca funkcje\n",
    "    if env_mode == \"dev\":\n",
    "        return print_log\n",
    "    else: \n",
    "        return noop_log"
   ]
  },
  {
   "cell_type": "code",
   "execution_count": 7,
   "metadata": {},
   "outputs": [],
   "source": [
    "env_mode=\"dev\"\n",
    "\n",
    "log = get_log(env_mode) # pod zmienną log podstawiamy funkcję get_log"
   ]
  },
  {
   "cell_type": "code",
   "execution_count": 8,
   "metadata": {},
   "outputs": [
    {
     "name": "stdout",
     "output_type": "stream",
     "text": [
      "x is 4\n",
      "x is now 16\n"
     ]
    }
   ],
   "source": [
    "# tym sposobem wywołujemy funkcję print_log\n",
    "\n",
    "x=4\n",
    "log(f'x is {x}')\n",
    "x*=x\n",
    "log(f'x is now {x}')"
   ]
  },
  {
   "cell_type": "code",
   "execution_count": 4,
   "metadata": {},
   "outputs": [],
   "source": [
    "env_mode=\"prod\"\n",
    "\n",
    "log=get_log(env_mode) # znowu podstawiamy funkcję get_log, ale z innym argumentem"
   ]
  },
  {
   "cell_type": "code",
   "execution_count": 5,
   "metadata": {},
   "outputs": [],
   "source": [
    "# a teraz wywoła się funkcja noop_trlog\n",
    "\n",
    "x=4\n",
    "log(f'x is {x}')\n",
    "x*=x\n",
    "log(f'x is now {x}')"
   ]
  },
  {
   "attachments": {},
   "cell_type": "markdown",
   "metadata": {},
   "source": [
    "Dzięki takiemu podejściu pozbywamy się nadmiarowych ifów"
   ]
  },
  {
   "attachments": {},
   "cell_type": "markdown",
   "metadata": {},
   "source": [
    "W Paradygmacie funkcjonalnym klasyczne wyrażenia for, while if zastępujemy wyrażeniami funkcyjnymi"
   ]
  },
  {
   "cell_type": "code",
   "execution_count": 10,
   "metadata": {},
   "outputs": [
    {
     "data": {
      "text/plain": [
       "0    1\n",
       "1    0\n",
       "2    1\n",
       "3    4\n",
       "4    9\n",
       "5    5\n",
       "6    4\n",
       "7    5\n",
       "8    4\n",
       "9    7\n",
       "dtype: int32"
      ]
     },
     "execution_count": 10,
     "metadata": {},
     "output_type": "execute_result"
    }
   ],
   "source": [
    "import pandas as pd\n",
    "import numpy as np\n",
    "\n",
    "def between(x, low, high):\n",
    "    return x >= low and x <= high\n",
    "\n",
    "s = pd.Series(np.random.randint(0, 10, 10))\n",
    "s"
   ]
  },
  {
   "cell_type": "code",
   "execution_count": 11,
   "metadata": {},
   "outputs": [
    {
     "data": {
      "text/plain": [
       "0    False\n",
       "1    False\n",
       "2    False\n",
       "3     True\n",
       "4    False\n",
       "5     True\n",
       "6     True\n",
       "7     True\n",
       "8     True\n",
       "9    False\n",
       "dtype: bool"
      ]
     },
     "execution_count": 11,
     "metadata": {},
     "output_type": "execute_result"
    }
   ],
   "source": [
    "s.apply(between, args=(3,6)) # between jest funkcją i staje się argumentem - to jest programowanie funkcjonalne"
   ]
  },
  {
   "cell_type": "code",
   "execution_count": 12,
   "metadata": {},
   "outputs": [
    {
     "data": {
      "text/plain": [
       "0    False\n",
       "1    False\n",
       "2    False\n",
       "3     True\n",
       "4    False\n",
       "5     True\n",
       "6     True\n",
       "7     True\n",
       "8     True\n",
       "9    False\n",
       "dtype: bool"
      ]
     },
     "execution_count": 12,
     "metadata": {},
     "output_type": "execute_result"
    }
   ],
   "source": [
    "s.apply(between, low = 3, high = 6)"
   ]
  },
  {
   "cell_type": "markdown",
   "metadata": {},
   "source": [
    "----"
   ]
  },
  {
   "cell_type": "markdown",
   "metadata": {},
   "source": [
    "## Iterators"
   ]
  },
  {
   "attachments": {},
   "cell_type": "markdown",
   "metadata": {},
   "source": [
    "- `__iter__()` jest funkcją zwracającą iterator\n",
    "- Iteratory mają metodę `__next__()` \n",
    "- Kończymy iterację wyjątkiem `StopIteration` "
   ]
  },
  {
   "cell_type": "code",
   "execution_count": null,
   "metadata": {},
   "outputs": [],
   "source": [
    "l = list(range(5))\n",
    "\n",
    "for i in l:\n",
    "    print(i)"
   ]
  },
  {
   "cell_type": "code",
   "execution_count": null,
   "metadata": {},
   "outputs": [],
   "source": [
    "# ale uwaga! ten kod jest długi, leniwi programiści nie przepadają za takim\n",
    "\n",
    "class Reverse():    \n",
    "    def __init__(self, data):\n",
    "        self.data = data\n",
    "        self.index = len(data)\n",
    "        \n",
    "    def __iter__(self):\n",
    "        return self\n",
    "    \n",
    "    def __next__(self):\n",
    "        if self.index == 0:\n",
    "            raise StopIteration\n",
    "        self.index = self.index-1\n",
    "        return self.data[self.index]\n",
    "    \n",
    "for char in Reverse('Python'):\n",
    "    print (char)"
   ]
  },
  {
   "cell_type": "markdown",
   "metadata": {},
   "source": [
    "## Generatory"
   ]
  },
  {
   "attachments": {},
   "cell_type": "markdown",
   "metadata": {},
   "source": [
    "Generatory lepiej nadają się do tworzenia iteratorów"
   ]
  },
  {
   "cell_type": "markdown",
   "metadata": {},
   "source": [
    "- tworzą iteratory\n",
    "- używają `yield`\n",
    "- Automatycznie stworzony `__next__` wraca do miejśca wyjścia"
   ]
  },
  {
   "cell_type": "code",
   "execution_count": null,
   "metadata": {},
   "outputs": [],
   "source": [
    "def reverse(data):\n",
    "    for index in range(len(data)-1, -1, -1):\n",
    "        yield data[index]\n",
    "        \n",
    "for char in reverse('Python'):\n",
    "    print (char)"
   ]
  },
  {
   "cell_type": "code",
   "execution_count": 13,
   "metadata": {},
   "outputs": [
    {
     "name": "stdout",
     "output_type": "stream",
     "text": [
      "n=0 => 0\n",
      "n=1 => 1\n",
      "n=2 => 1\n",
      "n=3 => 2\n",
      "n=4 => 3\n",
      "n=5 => 5\n",
      "n=6 => 8\n",
      "n=7 => 13\n",
      "n=8 => 21\n",
      "n=9 => 34\n",
      "n=10 => 55\n",
      "n=11 => 89\n",
      "n=12 => 144\n",
      "n=13 => 233\n",
      "n=14 => 377\n",
      "n=15 => 610\n",
      "n=16 => 987\n",
      "n=17 => 1597\n",
      "n=18 => 2584\n",
      "n=19 => 4181\n",
      "n=20 => 6765\n",
      "n=21 => 10946\n",
      "n=22 => 17711\n",
      "n=23 => 28657\n",
      "n=24 => 46368\n",
      "n=25 => 75025\n",
      "n=26 => 121393\n",
      "n=27 => 196418\n",
      "n=28 => 317811\n",
      "n=29 => 514229\n",
      "n=30 => 832040\n",
      "n=31 => 1346269\n",
      "n=32 => 2178309\n",
      "n=33 => 3524578\n",
      "n=34 => 5702887\n"
     ]
    }
   ],
   "source": [
    "# to będzie bardzo wolne! \n",
    "# bo wywołując funkcję dla k-tego elementu ciągu wywołujemy ją 2 ^ k razy\n",
    "\n",
    "def fib(n):\n",
    "    if n == 0 or n == 1:\n",
    "        return n\n",
    "    else:\n",
    "        return fib(n-1) + fib(n-2)\n",
    "        \n",
    "for i in range(35):\n",
    "    print (\"n=%d => %d\" % (i, fib(i)))"
   ]
  },
  {
   "cell_type": "code",
   "execution_count": 14,
   "metadata": {},
   "outputs": [
    {
     "name": "stdout",
     "output_type": "stream",
     "text": [
      "n=0 => 0\n",
      "n=1 => 1\n",
      "n=2 => 1\n",
      "n=3 => 2\n",
      "n=4 => 3\n",
      "n=5 => 5\n",
      "n=6 => 8\n",
      "n=7 => 13\n",
      "n=8 => 21\n",
      "n=9 => 34\n",
      "n=10 => 55\n",
      "n=11 => 89\n",
      "n=12 => 144\n",
      "n=13 => 233\n",
      "n=14 => 377\n",
      "n=15 => 610\n",
      "n=16 => 987\n",
      "n=17 => 1597\n",
      "n=18 => 2584\n",
      "n=19 => 4181\n",
      "n=20 => 6765\n",
      "n=21 => 10946\n",
      "n=22 => 17711\n",
      "n=23 => 28657\n",
      "n=24 => 46368\n",
      "n=25 => 75025\n",
      "n=26 => 121393\n",
      "n=27 => 196418\n",
      "n=28 => 317811\n",
      "n=29 => 514229\n",
      "n=30 => 832040\n",
      "n=31 => 1346269\n",
      "n=32 => 2178309\n",
      "n=33 => 3524578\n",
      "n=34 => 5702887\n"
     ]
    }
   ],
   "source": [
    "def fib(n):     # n - ile chcemy mieć wypisanych elementów\n",
    "    a, b = 0, 1 # pierwsze 2 elementy ciągu \n",
    "    i=0\n",
    "    while i < n:\n",
    "        yield (i, a)\n",
    "        a, b = b, a + b\n",
    "        i += 1\n",
    "\n",
    "for i, f in fib(35):\n",
    "    print (\"n=%d => %d\" % (i, f))"
   ]
  },
  {
   "cell_type": "markdown",
   "metadata": {},
   "source": [
    "### Generator expressions"
   ]
  },
  {
   "cell_type": "code",
   "execution_count": 16,
   "metadata": {},
   "outputs": [
    {
     "data": {
      "text/plain": [
       "<generator object <genexpr> at 0x00000215D3562030>"
      ]
     },
     "execution_count": 16,
     "metadata": {},
     "output_type": "execute_result"
    }
   ],
   "source": [
    "(x*x for x in range(10))"
   ]
  },
  {
   "cell_type": "code",
   "execution_count": 17,
   "metadata": {},
   "outputs": [
    {
     "data": {
      "text/plain": [
       "<generator object <genexpr> at 0x00000215D3562180>"
      ]
     },
     "execution_count": 17,
     "metadata": {},
     "output_type": "execute_result"
    }
   ],
   "source": [
    "(x*y for x in range(10) for y in range(5))"
   ]
  },
  {
   "cell_type": "code",
   "execution_count": 18,
   "metadata": {},
   "outputs": [
    {
     "data": {
      "text/plain": [
       "<generator object <genexpr> at 0x00000215D3561D20>"
      ]
     },
     "execution_count": 18,
     "metadata": {},
     "output_type": "execute_result"
    }
   ],
   "source": [
    "(x*x for x in range(10) if x % 2 == 0)"
   ]
  },
  {
   "cell_type": "markdown",
   "metadata": {},
   "source": [
    "##  <div style=\"text-align: center\">List + Generator Expression</div>\n",
    "\n",
    "## $$=$$\n",
    "\n",
    "##  <div style=\"text-align: center\">List comprehension</div>"
   ]
  },
  {
   "cell_type": "code",
   "execution_count": 15,
   "metadata": {},
   "outputs": [
    {
     "data": {
      "text/plain": [
       "[0, 0, 0, 0, 0, 0, 1, 2, 3, 4, 0, 2, 4, 6, 8, 0, 3, 6, 9, 12]"
      ]
     },
     "execution_count": 15,
     "metadata": {},
     "output_type": "execute_result"
    }
   ],
   "source": [
    "[x*y for x in range(4) for y in range(5)]"
   ]
  },
  {
   "cell_type": "markdown",
   "metadata": {},
   "source": [
    "---"
   ]
  },
  {
   "cell_type": "markdown",
   "metadata": {},
   "source": [
    "# Domknięcia/Closures"
   ]
  },
  {
   "cell_type": "code",
   "execution_count": 19,
   "metadata": {},
   "outputs": [
    {
     "name": "stdout",
     "output_type": "stream",
     "text": [
      "3\n"
     ]
    }
   ],
   "source": [
    "def add():\n",
    "    c = 1 \n",
    "    c = c + 2\n",
    "    print(c)\n",
    "\n",
    "add()"
   ]
  },
  {
   "cell_type": "code",
   "execution_count": 20,
   "metadata": {},
   "outputs": [
    {
     "ename": "UnboundLocalError",
     "evalue": "local variable 'c' referenced before assignment",
     "output_type": "error",
     "traceback": [
      "\u001b[1;31m---------------------------------------------------------------------------\u001b[0m",
      "\u001b[1;31mUnboundLocalError\u001b[0m                         Traceback (most recent call last)",
      "Cell \u001b[1;32mIn [20], line 7\u001b[0m\n\u001b[0;32m      4\u001b[0m     c \u001b[39m=\u001b[39m c \u001b[39m+\u001b[39m \u001b[39m2\u001b[39m \u001b[39m# ERROR!\u001b[39;00m\n\u001b[0;32m      5\u001b[0m     \u001b[39mprint\u001b[39m(c)\n\u001b[1;32m----> 7\u001b[0m add()\n",
      "Cell \u001b[1;32mIn [20], line 4\u001b[0m, in \u001b[0;36madd\u001b[1;34m()\u001b[0m\n\u001b[0;32m      3\u001b[0m \u001b[39mdef\u001b[39;00m \u001b[39madd\u001b[39m():\n\u001b[1;32m----> 4\u001b[0m     c \u001b[39m=\u001b[39m c \u001b[39m+\u001b[39m \u001b[39m2\u001b[39m \u001b[39m# ERROR!\u001b[39;00m\n\u001b[0;32m      5\u001b[0m     \u001b[39mprint\u001b[39m(c)\n",
      "\u001b[1;31mUnboundLocalError\u001b[0m: local variable 'c' referenced before assignment"
     ]
    }
   ],
   "source": [
    "c = 1 # global variable\n",
    "    \n",
    "def add():\n",
    "    c = c + 2 # ERROR!\n",
    "    print(c)\n",
    "\n",
    "add()"
   ]
  },
  {
   "cell_type": "code",
   "execution_count": 21,
   "metadata": {},
   "outputs": [
    {
     "name": "stdout",
     "output_type": "stream",
     "text": [
      "3\n"
     ]
    }
   ],
   "source": [
    "c = 1 # global variable\n",
    "    \n",
    "def add():\n",
    "    global c\n",
    "    c = c + 2 # NO ERROR!\n",
    "    print(c)\n",
    "\n",
    "add()"
   ]
  },
  {
   "cell_type": "code",
   "execution_count": 22,
   "metadata": {},
   "outputs": [],
   "source": [
    "def makeinc(x):\n",
    "    def inc(y):\n",
    "        return y+x # domknięcie, czyli pamiec stworzonej funkcji inc\n",
    "    return inc # czyli funkcja makeinc zwraca funkcję inc\n",
    "\n",
    "inc5 = makeinc(5)\n"
   ]
  },
  {
   "cell_type": "code",
   "execution_count": 23,
   "metadata": {},
   "outputs": [],
   "source": [
    "inc10 = makeinc(10)"
   ]
  },
  {
   "cell_type": "code",
   "execution_count": 24,
   "metadata": {},
   "outputs": [
    {
     "data": {
      "text/plain": [
       "12"
      ]
     },
     "execution_count": 24,
     "metadata": {},
     "output_type": "execute_result"
    }
   ],
   "source": [
    "inc10(2)"
   ]
  },
  {
   "cell_type": "code",
   "execution_count": 25,
   "metadata": {},
   "outputs": [
    {
     "data": {
      "text/plain": [
       "7"
      ]
     },
     "execution_count": 25,
     "metadata": {},
     "output_type": "execute_result"
    }
   ],
   "source": [
    "inc5(2)"
   ]
  },
  {
   "cell_type": "code",
   "execution_count": 26,
   "metadata": {},
   "outputs": [
    {
     "name": "stdout",
     "output_type": "stream",
     "text": [
      "1 2 3\n"
     ]
    }
   ],
   "source": [
    "def outer():\n",
    "    y = 0\n",
    "    def inner():\n",
    "        nonlocal y\n",
    "        y=y+1\n",
    "        return y\n",
    "    return inner\n",
    "\n",
    "f = outer()\n",
    "print ( f(), f(), f() )"
   ]
  },
  {
   "cell_type": "markdown",
   "metadata": {},
   "source": [
    "---"
   ]
  },
  {
   "cell_type": "markdown",
   "metadata": {},
   "source": [
    "# Wyrażenia Lambda"
   ]
  },
  {
   "cell_type": "code",
   "execution_count": 27,
   "metadata": {},
   "outputs": [
    {
     "name": "stdout",
     "output_type": "stream",
     "text": [
      "!\n"
     ]
    }
   ],
   "source": [
    "def f():\n",
    "    print (\"!\")\n",
    "    \n",
    "g = f\n",
    "\n",
    "g()"
   ]
  },
  {
   "cell_type": "code",
   "execution_count": 28,
   "metadata": {},
   "outputs": [
    {
     "name": "stdout",
     "output_type": "stream",
     "text": [
      "!\n"
     ]
    }
   ],
   "source": [
    "g = lambda: print (\"!\")\n",
    "\n",
    "g()"
   ]
  },
  {
   "attachments": {},
   "cell_type": "markdown",
   "metadata": {},
   "source": [
    "lambda jest w stanie zastąpić nam def przy prostych funkcjach\n",
    "Zasada: tylko jedno wyrażenie pythona dozwolone w lambdzie!"
   ]
  },
  {
   "cell_type": "code",
   "execution_count": null,
   "metadata": {},
   "outputs": [],
   "source": [
    "a=list(range(-5,0,2))+list(range(0,6,2))\n",
    "print(a)"
   ]
  },
  {
   "cell_type": "code",
   "execution_count": null,
   "metadata": {},
   "outputs": [],
   "source": [
    "def square(x):\n",
    "    return x*x\n",
    "\n",
    "sorted(a,key = square)"
   ]
  },
  {
   "cell_type": "code",
   "execution_count": null,
   "metadata": {},
   "outputs": [],
   "source": [
    "sorted(a,key = lambda x: x*x)"
   ]
  },
  {
   "cell_type": "markdown",
   "metadata": {},
   "source": [
    "## Tylko jedno wyrażenie pythona w lambdzie\n",
    "---\n",
    "## ... a może więcej ?"
   ]
  },
  {
   "attachments": {},
   "cell_type": "markdown",
   "metadata": {},
   "source": [
    "Tego lepiej nie używać!!! to bardziej żeby pokazać możliwości"
   ]
  },
  {
   "cell_type": "raw",
   "metadata": {},
   "source": [
    "if <cond1>: func1()\n",
    "elif <cond2>: func2()\n",
    "else: func3()\n",
    "        \n",
    "(<cond1> and func1()) or\n",
    "(<cond2> and func2()) or\n",
    "(func3())"
   ]
  },
  {
   "cell_type": "code",
   "execution_count": 29,
   "metadata": {},
   "outputs": [
    {
     "data": {
      "text/plain": [
       "'one'"
      ]
     },
     "execution_count": 29,
     "metadata": {},
     "output_type": "execute_result"
    }
   ],
   "source": [
    "pr = lambda s:s\n",
    "namenum = lambda x: (x==1 and pr(\"one\")) or (x==2 and pr(\"two\")) or (pr(\"other\"))\n",
    "\n",
    "namenum(1)"
   ]
  },
  {
   "cell_type": "code",
   "execution_count": 30,
   "metadata": {},
   "outputs": [],
   "source": [
    "def echo_IMP():\n",
    "    while 1:\n",
    "        x = input(\"IMP \")\n",
    "        if x == 'quit':\n",
    "            break\n",
    "        else:\n",
    "            print (x)\n",
    "            \n",
    "echo_IMP()"
   ]
  },
  {
   "cell_type": "code",
   "execution_count": 1,
   "metadata": {},
   "outputs": [],
   "source": [
    "def monadic_print(x):\n",
    "    print (x)\n",
    "    return x\n",
    "\n",
    "echo_FP = lambda: monadic_print(input(\"FP \"))=='quit' or echo_FP()\n",
    "\n",
    "echo_FP()"
   ]
  },
  {
   "cell_type": "code",
   "execution_count": 1,
   "metadata": {},
   "outputs": [
    {
     "data": {
      "text/html": [
       "<div>\n",
       "<style scoped>\n",
       "    .dataframe tbody tr th:only-of-type {\n",
       "        vertical-align: middle;\n",
       "    }\n",
       "\n",
       "    .dataframe tbody tr th {\n",
       "        vertical-align: top;\n",
       "    }\n",
       "\n",
       "    .dataframe thead th {\n",
       "        text-align: right;\n",
       "    }\n",
       "</style>\n",
       "<table border=\"1\" class=\"dataframe\">\n",
       "  <thead>\n",
       "    <tr style=\"text-align: right;\">\n",
       "      <th></th>\n",
       "      <th>1</th>\n",
       "      <th>2</th>\n",
       "      <th>3</th>\n",
       "      <th>4</th>\n",
       "      <th>5</th>\n",
       "    </tr>\n",
       "  </thead>\n",
       "  <tbody>\n",
       "    <tr>\n",
       "      <th>1</th>\n",
       "      <td>2</td>\n",
       "      <td>3</td>\n",
       "      <td>4</td>\n",
       "      <td>5</td>\n",
       "      <td>6</td>\n",
       "    </tr>\n",
       "    <tr>\n",
       "      <th>2</th>\n",
       "      <td>3</td>\n",
       "      <td>4</td>\n",
       "      <td>5</td>\n",
       "      <td>6</td>\n",
       "      <td>7</td>\n",
       "    </tr>\n",
       "    <tr>\n",
       "      <th>3</th>\n",
       "      <td>4</td>\n",
       "      <td>5</td>\n",
       "      <td>6</td>\n",
       "      <td>7</td>\n",
       "      <td>8</td>\n",
       "    </tr>\n",
       "    <tr>\n",
       "      <th>4</th>\n",
       "      <td>5</td>\n",
       "      <td>6</td>\n",
       "      <td>7</td>\n",
       "      <td>8</td>\n",
       "      <td>9</td>\n",
       "    </tr>\n",
       "    <tr>\n",
       "      <th>5</th>\n",
       "      <td>6</td>\n",
       "      <td>7</td>\n",
       "      <td>8</td>\n",
       "      <td>9</td>\n",
       "      <td>10</td>\n",
       "    </tr>\n",
       "  </tbody>\n",
       "</table>\n",
       "</div>"
      ],
      "text/plain": [
       "   1  2  3  4   5\n",
       "1  2  3  4  5   6\n",
       "2  3  4  5  6   7\n",
       "3  4  5  6  7   8\n",
       "4  5  6  7  8   9\n",
       "5  6  7  8  9  10"
      ]
     },
     "execution_count": 1,
     "metadata": {},
     "output_type": "execute_result"
    }
   ],
   "source": [
    "import pandas as pd\n",
    "import numpy as np\n",
    "\n",
    "N=5\n",
    "\n",
    "df = pd.DataFrame([ \n",
    "    [ row + col for col in range(1,N+1)]\n",
    "    for row in range(0,N+1)\n",
    "])\n",
    "\n",
    "df.columns = [ f'{i}' for i in range(1,N+1)]\n",
    "df = df.iloc[1:]\n",
    "df"
   ]
  },
  {
   "cell_type": "code",
   "execution_count": null,
   "metadata": {},
   "outputs": [],
   "source": [
    "df.applymap(lambda x: x*x)"
   ]
  },
  {
   "cell_type": "markdown",
   "metadata": {},
   "source": [
    "---"
   ]
  },
  {
   "cell_type": "markdown",
   "metadata": {},
   "source": [
    "# Funkcje wyższego rzędu\n",
    "\n"
   ]
  },
  {
   "cell_type": "markdown",
   "metadata": {},
   "source": [
    "## Map, filter, reduce\n",
    "\n",
    "![title](img/rossum.jpg)"
   ]
  },
  {
   "cell_type": "raw",
   "metadata": {},
   "source": [
    "Guido: “I value readability and usefulness for real code. There are some places where map() and filter() make sense, and for other places Python has list comprehensions. I ended up hating reduce() because it was almost exclusively used \n",
    "(a) to implement sum(), or \n",
    "(b) to write unreadable code. \n",
    "\n",
    "So we added built-in sum() at the same time we demoted reduce() from a built-in to something in functools (which is a dumping ground for stuff I don’t really care about :-).”"
   ]
  },
  {
   "cell_type": "code",
   "execution_count": 2,
   "metadata": {},
   "outputs": [
    {
     "name": "stdout",
     "output_type": "stream",
     "text": [
      "[0, 1, 4, 9, 16, 25, 36, 49, 64, 81, 100, 121, 144, 169, 196]\n"
     ]
    }
   ],
   "source": [
    "func = lambda x: x*x\n",
    "seq = range(15)\n",
    "\n",
    "print (list(\n",
    "    map( func, seq ) # mapujemy funkcje kwadratową na ciąg kolejnych 15 liczb (od 0 do 14)\n",
    "))"
   ]
  },
  {
   "cell_type": "code",
   "execution_count": 3,
   "metadata": {},
   "outputs": [
    {
     "name": "stdout",
     "output_type": "stream",
     "text": [
      "[0, 2, 4, 6, 8, 10, 12, 14]\n"
     ]
    }
   ],
   "source": [
    "func = lambda x: x%2 == 0\n",
    "seq = range(15)\n",
    "\n",
    "print (list(\n",
    "    filter( func, seq ) # na liście zostaja tylko te elementy, dla ktorych predykat jest prawdziwy \n",
    "                        # zatem zostaną tylko liczby parzyste\n",
    "))"
   ]
  },
  {
   "cell_type": "code",
   "execution_count": 4,
   "metadata": {},
   "outputs": [
    {
     "name": "stdout",
     "output_type": "stream",
     "text": [
      "[0, 4, 16, 36, 64, 100, 144, 196]\n"
     ]
    }
   ],
   "source": [
    "print (list(\n",
    "    map(lambda x: x*x, filter( lambda x: x%2==0, range(15) ))\n",
    "))"
   ]
  },
  {
   "attachments": {},
   "cell_type": "markdown",
   "metadata": {},
   "source": [
    "Powyżeej funkcje wyższego rzędu, poniżej konstrukcja list comprehention (generalnie LEPSZA, ale...)"
   ]
  },
  {
   "cell_type": "code",
   "execution_count": null,
   "metadata": {},
   "outputs": [],
   "source": [
    "[ x*x for x in range(15) if x%2==0]"
   ]
  },
  {
   "attachments": {},
   "cell_type": "markdown",
   "metadata": {},
   "source": [
    "... ale funkcje wyższego rzędu są <span style=\"color: cyan\">LENIWE</span>- a to działa na ich korzyść"
   ]
  },
  {
   "cell_type": "markdown",
   "metadata": {},
   "source": [
    "### Leniwa Ewaluacja"
   ]
  },
  {
   "cell_type": "code",
   "execution_count": 5,
   "metadata": {},
   "outputs": [
    {
     "data": {
      "text/plain": [
       "range(0, 15)"
      ]
     },
     "execution_count": 5,
     "metadata": {},
     "output_type": "execute_result"
    }
   ],
   "source": [
    "range(15) # to nie jest gotowa lista, ale potencjalna lista liczb w tym zakresie"
   ]
  },
  {
   "cell_type": "code",
   "execution_count": 7,
   "metadata": {},
   "outputs": [
    {
     "name": "stdout",
     "output_type": "stream",
     "text": [
      "<map object at 0x000001D21293E710>\n"
     ]
    }
   ],
   "source": [
    "func = lambda x: x*x\n",
    "seq = range(15)\n",
    "\n",
    "print (\n",
    "    map( func, seq ) \n",
    ")\n",
    "\n",
    "# tu otrzymujemy mapę, która jest generatorem, ale nie listą samą w sobie nim ją utworzymy! \n",
    "# w ten sposó nie liczymy rzeczy na zapas, oszczedzamy czas, moc obliczeniowa i miejsce w pamięci"
   ]
  },
  {
   "cell_type": "code",
   "execution_count": 8,
   "metadata": {},
   "outputs": [
    {
     "data": {
      "text/plain": [
       "[0, 1, 4, 9, 16, 25, 36, 49, 64, 81, 100, 121, 144, 169, 196]"
      ]
     },
     "execution_count": 8,
     "metadata": {},
     "output_type": "execute_result"
    }
   ],
   "source": [
    "list(map( func, seq ))"
   ]
  },
  {
   "cell_type": "code",
   "execution_count": 9,
   "metadata": {},
   "outputs": [
    {
     "data": {
      "text/plain": [
       "105"
      ]
     },
     "execution_count": 9,
     "metadata": {},
     "output_type": "execute_result"
    }
   ],
   "source": [
    "sum(range(15)) # tu np. omijamy liczy od 0 do 14 z osobna (nie musimy tworzyć im osobnych miejsc w pamięci)"
   ]
  },
  {
   "cell_type": "code",
   "execution_count": 10,
   "metadata": {},
   "outputs": [
    {
     "data": {
      "text/plain": [
       "105"
      ]
     },
     "execution_count": 10,
     "metadata": {},
     "output_type": "execute_result"
    }
   ],
   "source": [
    "from functools import reduce\n",
    "\n",
    "func = lambda x,y: x+y\n",
    "seq = range(15)\n",
    "\n",
    "reduce( func, seq )"
   ]
  },
  {
   "cell_type": "code",
   "execution_count": null,
   "metadata": {},
   "outputs": [],
   "source": [
    "from functools import reduce\n",
    "\n",
    "def func(x, y):\n",
    "    print(f'x: {x}, y: {y}')\n",
    "    return x+y\n",
    "\n",
    "seq = range(15)\n",
    "\n",
    "reduce( func, seq )"
   ]
  },
  {
   "cell_type": "code",
   "execution_count": null,
   "metadata": {},
   "outputs": [],
   "source": [
    "f = lambda a,b: a if (a > b) else b\n",
    "reduce(f, [47,11,42,302,13])"
   ]
  },
  {
   "cell_type": "code",
   "execution_count": null,
   "metadata": {},
   "outputs": [],
   "source": [
    "reduce(lambda x,y: x+' '+y, ['a','bb','ccc','dddd'])"
   ]
  },
  {
   "cell_type": "code",
   "execution_count": null,
   "metadata": {},
   "outputs": [],
   "source": [
    "reduce(lambda x,y: x+' '+y, ['a','bb','ccc','dddd'], 'Result:')"
   ]
  },
  {
   "cell_type": "markdown",
   "metadata": {},
   "source": [
    "----\n",
    "### Operatory"
   ]
  },
  {
   "cell_type": "code",
   "execution_count": 11,
   "metadata": {},
   "outputs": [
    {
     "data": {
      "text/plain": [
       "105"
      ]
     },
     "execution_count": 11,
     "metadata": {},
     "output_type": "execute_result"
    }
   ],
   "source": [
    "from operator import add\n",
    "\n",
    "reduce(add, range(15))"
   ]
  },
  {
   "cell_type": "code",
   "execution_count": 12,
   "metadata": {},
   "outputs": [
    {
     "name": "stdout",
     "output_type": "stream",
     "text": [
      "[(0, 15), (1, 14), (2, 13), (3, 12), (4, 11), (5, 10), (6, 9), (7, 8), (8, 7), (9, 6), (10, 5), (11, 4), (12, 3), (13, 2), (14, 1)]\n"
     ]
    }
   ],
   "source": [
    "from operator import itemgetter\n",
    "\n",
    "a = list(zip(range(15), range(15,0,-1)))\n",
    "print(a)"
   ]
  },
  {
   "cell_type": "code",
   "execution_count": 13,
   "metadata": {},
   "outputs": [
    {
     "name": "stdout",
     "output_type": "stream",
     "text": [
      "[(14, 1), (13, 2), (12, 3), (11, 4), (10, 5), (9, 6), (8, 7), (7, 8), (6, 9), (5, 10), (4, 11), (3, 12), (2, 13), (1, 14), (0, 15)]\n"
     ]
    }
   ],
   "source": [
    "print(sorted(a, key = itemgetter(1))) # sortuje po 2gim elemencie pary"
   ]
  },
  {
   "cell_type": "markdown",
   "metadata": {},
   "source": [
    "---"
   ]
  },
  {
   "cell_type": "code",
   "execution_count": 14,
   "metadata": {},
   "outputs": [
    {
     "data": {
      "text/plain": [
       "18"
      ]
     },
     "execution_count": 14,
     "metadata": {},
     "output_type": "execute_result"
    }
   ],
   "source": [
    "from functools import partial\n",
    "\n",
    "basetwo = partial(int, base=2)\n",
    "basetwo.__doc__ = 'Convert base 2 string to an int.' # konwertujemy z systemu  dwójkowego na dziesiętny\n",
    "basetwo('10010')"
   ]
  },
  {
   "cell_type": "code",
   "execution_count": 15,
   "metadata": {},
   "outputs": [
    {
     "data": {
      "text/plain": [
       "8"
      ]
     },
     "execution_count": 15,
     "metadata": {},
     "output_type": "execute_result"
    }
   ],
   "source": [
    "int(\"1000\", base=2)"
   ]
  },
  {
   "cell_type": "markdown",
   "metadata": {},
   "source": [
    "### Currying / Shönfinkelizacja\n",
    "\n",
    "Haskell Curry (1900-1982) → Currying\n",
    "\n",
    "Mojżesz Iljicz Schönfinkel (1889-1942)"
   ]
  },
  {
   "cell_type": "code",
   "execution_count": 16,
   "metadata": {},
   "outputs": [
    {
     "data": {
      "text/html": [
       "<div>\n",
       "<style scoped>\n",
       "    .dataframe tbody tr th:only-of-type {\n",
       "        vertical-align: middle;\n",
       "    }\n",
       "\n",
       "    .dataframe tbody tr th {\n",
       "        vertical-align: top;\n",
       "    }\n",
       "\n",
       "    .dataframe thead th {\n",
       "        text-align: right;\n",
       "    }\n",
       "</style>\n",
       "<table border=\"1\" class=\"dataframe\">\n",
       "  <thead>\n",
       "    <tr style=\"text-align: right;\">\n",
       "      <th></th>\n",
       "      <th>1</th>\n",
       "      <th>2</th>\n",
       "      <th>3</th>\n",
       "      <th>4</th>\n",
       "      <th>5</th>\n",
       "    </tr>\n",
       "  </thead>\n",
       "  <tbody>\n",
       "    <tr>\n",
       "      <th>1</th>\n",
       "      <td>1</td>\n",
       "      <td>2</td>\n",
       "      <td>3</td>\n",
       "      <td>4</td>\n",
       "      <td>5</td>\n",
       "    </tr>\n",
       "    <tr>\n",
       "      <th>2</th>\n",
       "      <td>2</td>\n",
       "      <td>4</td>\n",
       "      <td>6</td>\n",
       "      <td>8</td>\n",
       "      <td>10</td>\n",
       "    </tr>\n",
       "    <tr>\n",
       "      <th>3</th>\n",
       "      <td>3</td>\n",
       "      <td>6</td>\n",
       "      <td>9</td>\n",
       "      <td>12</td>\n",
       "      <td>15</td>\n",
       "    </tr>\n",
       "    <tr>\n",
       "      <th>4</th>\n",
       "      <td>4</td>\n",
       "      <td>8</td>\n",
       "      <td>12</td>\n",
       "      <td>16</td>\n",
       "      <td>20</td>\n",
       "    </tr>\n",
       "    <tr>\n",
       "      <th>5</th>\n",
       "      <td>5</td>\n",
       "      <td>10</td>\n",
       "      <td>15</td>\n",
       "      <td>20</td>\n",
       "      <td>25</td>\n",
       "    </tr>\n",
       "  </tbody>\n",
       "</table>\n",
       "</div>"
      ],
      "text/plain": [
       "   1   2   3   4   5\n",
       "1  1   2   3   4   5\n",
       "2  2   4   6   8  10\n",
       "3  3   6   9  12  15\n",
       "4  4   8  12  16  20\n",
       "5  5  10  15  20  25"
      ]
     },
     "execution_count": 16,
     "metadata": {},
     "output_type": "execute_result"
    }
   ],
   "source": [
    "import pandas as pd\n",
    "import numpy as np\n",
    "\n",
    "N=5\n",
    "\n",
    "df = pd.DataFrame([ \n",
    "    [ row * col for col in range(1,N+1)]\n",
    "    for row in range(0,N+1)\n",
    "])\n",
    "\n",
    "df.columns = [ f'{i}' for i in range(1,N+1)]\n",
    "df = df.iloc[1:]\n",
    "df"
   ]
  },
  {
   "cell_type": "code",
   "execution_count": 17,
   "metadata": {},
   "outputs": [
    {
     "data": {
      "text/plain": [
       "'1001'"
      ]
     },
     "execution_count": 17,
     "metadata": {},
     "output_type": "execute_result"
    }
   ],
   "source": [
    "format(9,\"b\")"
   ]
  },
  {
   "cell_type": "code",
   "execution_count": 18,
   "metadata": {},
   "outputs": [],
   "source": [
    "from operator import pow\n",
    "\n",
    "def my_format(value, sformat):\n",
    "    return format(value, sformat)\n",
    "\n",
    "def my_pow(base, exponant):\n",
    "    return pow(base, exponant)"
   ]
  },
  {
   "cell_type": "code",
   "execution_count": 19,
   "metadata": {},
   "outputs": [],
   "source": [
    "import functools\n",
    "\n",
    "def compose(*functions):\n",
    "    return functools.reduce(lambda f, g: lambda x: f(g(x)), functions, lambda x: x) # tworzymy złożenie funkcji"
   ]
  },
  {
   "cell_type": "markdown",
   "metadata": {},
   "source": [
    "$$\n",
    "compose(f, g, h) = f \\circ g \\circ h\n",
    "$$\n",
    "\n",
    "$$\n",
    "(f \\circ g \\circ h)(x) = f(g(h(x)))\n",
    "$$"
   ]
  },
  {
   "cell_type": "code",
   "execution_count": 20,
   "metadata": {},
   "outputs": [
    {
     "data": {
      "text/html": [
       "<div>\n",
       "<style scoped>\n",
       "    .dataframe tbody tr th:only-of-type {\n",
       "        vertical-align: middle;\n",
       "    }\n",
       "\n",
       "    .dataframe tbody tr th {\n",
       "        vertical-align: top;\n",
       "    }\n",
       "\n",
       "    .dataframe thead th {\n",
       "        text-align: right;\n",
       "    }\n",
       "</style>\n",
       "<table border=\"1\" class=\"dataframe\">\n",
       "  <thead>\n",
       "    <tr style=\"text-align: right;\">\n",
       "      <th></th>\n",
       "      <th>1</th>\n",
       "      <th>2</th>\n",
       "      <th>3</th>\n",
       "      <th>4</th>\n",
       "      <th>5</th>\n",
       "    </tr>\n",
       "  </thead>\n",
       "  <tbody>\n",
       "    <tr>\n",
       "      <th>1</th>\n",
       "      <td>1</td>\n",
       "      <td>10</td>\n",
       "      <td>11</td>\n",
       "      <td>100</td>\n",
       "      <td>101</td>\n",
       "    </tr>\n",
       "    <tr>\n",
       "      <th>2</th>\n",
       "      <td>10</td>\n",
       "      <td>100</td>\n",
       "      <td>110</td>\n",
       "      <td>1000</td>\n",
       "      <td>1010</td>\n",
       "    </tr>\n",
       "    <tr>\n",
       "      <th>3</th>\n",
       "      <td>11</td>\n",
       "      <td>110</td>\n",
       "      <td>1001</td>\n",
       "      <td>1100</td>\n",
       "      <td>1111</td>\n",
       "    </tr>\n",
       "    <tr>\n",
       "      <th>4</th>\n",
       "      <td>100</td>\n",
       "      <td>1000</td>\n",
       "      <td>1100</td>\n",
       "      <td>10000</td>\n",
       "      <td>10100</td>\n",
       "    </tr>\n",
       "    <tr>\n",
       "      <th>5</th>\n",
       "      <td>101</td>\n",
       "      <td>1010</td>\n",
       "      <td>1111</td>\n",
       "      <td>10100</td>\n",
       "      <td>11001</td>\n",
       "    </tr>\n",
       "  </tbody>\n",
       "</table>\n",
       "</div>"
      ],
      "text/plain": [
       "     1     2     3      4      5\n",
       "1    1    10    11    100    101\n",
       "2   10   100   110   1000   1010\n",
       "3   11   110  1001   1100   1111\n",
       "4  100  1000  1100  10000  10100\n",
       "5  101  1010  1111  10100  11001"
      ]
     },
     "execution_count": 20,
     "metadata": {},
     "output_type": "execute_result"
    }
   ],
   "source": [
    "df.applymap(functools.partial(my_format, sformat=\"b\"))\n",
    "# otrzymujemy tabelkę w postaci binarnej"
   ]
  },
  {
   "cell_type": "code",
   "execution_count": 21,
   "metadata": {},
   "outputs": [
    {
     "data": {
      "text/html": [
       "<div>\n",
       "<style scoped>\n",
       "    .dataframe tbody tr th:only-of-type {\n",
       "        vertical-align: middle;\n",
       "    }\n",
       "\n",
       "    .dataframe tbody tr th {\n",
       "        vertical-align: top;\n",
       "    }\n",
       "\n",
       "    .dataframe thead th {\n",
       "        text-align: right;\n",
       "    }\n",
       "</style>\n",
       "<table border=\"1\" class=\"dataframe\">\n",
       "  <thead>\n",
       "    <tr style=\"text-align: right;\">\n",
       "      <th></th>\n",
       "      <th>1</th>\n",
       "      <th>2</th>\n",
       "      <th>3</th>\n",
       "      <th>4</th>\n",
       "      <th>5</th>\n",
       "    </tr>\n",
       "  </thead>\n",
       "  <tbody>\n",
       "    <tr>\n",
       "      <th>1</th>\n",
       "      <td>1</td>\n",
       "      <td>100</td>\n",
       "      <td>1001</td>\n",
       "      <td>10000</td>\n",
       "      <td>11001</td>\n",
       "    </tr>\n",
       "    <tr>\n",
       "      <th>2</th>\n",
       "      <td>100</td>\n",
       "      <td>10000</td>\n",
       "      <td>100100</td>\n",
       "      <td>1000000</td>\n",
       "      <td>1100100</td>\n",
       "    </tr>\n",
       "    <tr>\n",
       "      <th>3</th>\n",
       "      <td>1001</td>\n",
       "      <td>100100</td>\n",
       "      <td>1010001</td>\n",
       "      <td>10010000</td>\n",
       "      <td>11100001</td>\n",
       "    </tr>\n",
       "    <tr>\n",
       "      <th>4</th>\n",
       "      <td>10000</td>\n",
       "      <td>1000000</td>\n",
       "      <td>10010000</td>\n",
       "      <td>100000000</td>\n",
       "      <td>110010000</td>\n",
       "    </tr>\n",
       "    <tr>\n",
       "      <th>5</th>\n",
       "      <td>11001</td>\n",
       "      <td>1100100</td>\n",
       "      <td>11100001</td>\n",
       "      <td>110010000</td>\n",
       "      <td>1001110001</td>\n",
       "    </tr>\n",
       "  </tbody>\n",
       "</table>\n",
       "</div>"
      ],
      "text/plain": [
       "       1        2         3          4           5\n",
       "1      1      100      1001      10000       11001\n",
       "2    100    10000    100100    1000000     1100100\n",
       "3   1001   100100   1010001   10010000    11100001\n",
       "4  10000  1000000  10010000  100000000   110010000\n",
       "5  11001  1100100  11100001  110010000  1001110001"
      ]
     },
     "execution_count": 21,
     "metadata": {},
     "output_type": "execute_result"
    }
   ],
   "source": [
    "df.applymap(\n",
    "    compose(\n",
    "        functools.partial(\n",
    "            my_format, sformat=\"b\"\n",
    "        ), \n",
    "        np.square\n",
    "    )\n",
    ")"
   ]
  },
  {
   "cell_type": "code",
   "execution_count": 22,
   "metadata": {},
   "outputs": [
    {
     "data": {
      "text/html": [
       "<div>\n",
       "<style scoped>\n",
       "    .dataframe tbody tr th:only-of-type {\n",
       "        vertical-align: middle;\n",
       "    }\n",
       "\n",
       "    .dataframe tbody tr th {\n",
       "        vertical-align: top;\n",
       "    }\n",
       "\n",
       "    .dataframe thead th {\n",
       "        text-align: right;\n",
       "    }\n",
       "</style>\n",
       "<table border=\"1\" class=\"dataframe\">\n",
       "  <thead>\n",
       "    <tr style=\"text-align: right;\">\n",
       "      <th></th>\n",
       "      <th>1</th>\n",
       "      <th>2</th>\n",
       "      <th>3</th>\n",
       "      <th>4</th>\n",
       "      <th>5</th>\n",
       "    </tr>\n",
       "  </thead>\n",
       "  <tbody>\n",
       "    <tr>\n",
       "      <th>1</th>\n",
       "      <td>1</td>\n",
       "      <td>100</td>\n",
       "      <td>1001</td>\n",
       "      <td>10000</td>\n",
       "      <td>11001</td>\n",
       "    </tr>\n",
       "    <tr>\n",
       "      <th>2</th>\n",
       "      <td>100</td>\n",
       "      <td>10000</td>\n",
       "      <td>100100</td>\n",
       "      <td>1000000</td>\n",
       "      <td>1100100</td>\n",
       "    </tr>\n",
       "    <tr>\n",
       "      <th>3</th>\n",
       "      <td>1001</td>\n",
       "      <td>100100</td>\n",
       "      <td>1010001</td>\n",
       "      <td>10010000</td>\n",
       "      <td>11100001</td>\n",
       "    </tr>\n",
       "    <tr>\n",
       "      <th>4</th>\n",
       "      <td>10000</td>\n",
       "      <td>1000000</td>\n",
       "      <td>10010000</td>\n",
       "      <td>100000000</td>\n",
       "      <td>110010000</td>\n",
       "    </tr>\n",
       "    <tr>\n",
       "      <th>5</th>\n",
       "      <td>11001</td>\n",
       "      <td>1100100</td>\n",
       "      <td>11100001</td>\n",
       "      <td>110010000</td>\n",
       "      <td>1001110001</td>\n",
       "    </tr>\n",
       "  </tbody>\n",
       "</table>\n",
       "</div>"
      ],
      "text/plain": [
       "       1        2         3          4           5\n",
       "1      1      100      1001      10000       11001\n",
       "2    100    10000    100100    1000000     1100100\n",
       "3   1001   100100   1010001   10010000    11100001\n",
       "4  10000  1000000  10010000  100000000   110010000\n",
       "5  11001  1100100  11100001  110010000  1001110001"
      ]
     },
     "execution_count": 22,
     "metadata": {},
     "output_type": "execute_result"
    }
   ],
   "source": [
    "df.applymap(\n",
    "    compose(\n",
    "        partial(\n",
    "            my_format, sformat=\"b\"\n",
    "        ), \n",
    "        np.square\n",
    "    )\n",
    ")"
   ]
  },
  {
   "cell_type": "code",
   "execution_count": 23,
   "metadata": {},
   "outputs": [
    {
     "data": {
      "text/html": [
       "<div>\n",
       "<style scoped>\n",
       "    .dataframe tbody tr th:only-of-type {\n",
       "        vertical-align: middle;\n",
       "    }\n",
       "\n",
       "    .dataframe tbody tr th {\n",
       "        vertical-align: top;\n",
       "    }\n",
       "\n",
       "    .dataframe thead th {\n",
       "        text-align: right;\n",
       "    }\n",
       "</style>\n",
       "<table border=\"1\" class=\"dataframe\">\n",
       "  <thead>\n",
       "    <tr style=\"text-align: right;\">\n",
       "      <th></th>\n",
       "      <th>1</th>\n",
       "      <th>2</th>\n",
       "      <th>3</th>\n",
       "      <th>4</th>\n",
       "      <th>5</th>\n",
       "    </tr>\n",
       "  </thead>\n",
       "  <tbody>\n",
       "    <tr>\n",
       "      <th>1</th>\n",
       "      <td>1</td>\n",
       "      <td>100</td>\n",
       "      <td>1001</td>\n",
       "      <td>10000</td>\n",
       "      <td>11001</td>\n",
       "    </tr>\n",
       "    <tr>\n",
       "      <th>2</th>\n",
       "      <td>100</td>\n",
       "      <td>10000</td>\n",
       "      <td>100100</td>\n",
       "      <td>1000000</td>\n",
       "      <td>1100100</td>\n",
       "    </tr>\n",
       "    <tr>\n",
       "      <th>3</th>\n",
       "      <td>1001</td>\n",
       "      <td>100100</td>\n",
       "      <td>1010001</td>\n",
       "      <td>10010000</td>\n",
       "      <td>11100001</td>\n",
       "    </tr>\n",
       "    <tr>\n",
       "      <th>4</th>\n",
       "      <td>10000</td>\n",
       "      <td>1000000</td>\n",
       "      <td>10010000</td>\n",
       "      <td>100000000</td>\n",
       "      <td>110010000</td>\n",
       "    </tr>\n",
       "    <tr>\n",
       "      <th>5</th>\n",
       "      <td>11001</td>\n",
       "      <td>1100100</td>\n",
       "      <td>11100001</td>\n",
       "      <td>110010000</td>\n",
       "      <td>1001110001</td>\n",
       "    </tr>\n",
       "  </tbody>\n",
       "</table>\n",
       "</div>"
      ],
      "text/plain": [
       "       1        2         3          4           5\n",
       "1      1      100      1001      10000       11001\n",
       "2    100    10000    100100    1000000     1100100\n",
       "3   1001   100100   1010001   10010000    11100001\n",
       "4  10000  1000000  10010000  100000000   110010000\n",
       "5  11001  1100100  11100001  110010000  1001110001"
      ]
     },
     "execution_count": 23,
     "metadata": {},
     "output_type": "execute_result"
    }
   ],
   "source": [
    "df.applymap(\n",
    "    compose(\n",
    "        partial(\n",
    "            my_format, sformat=\"b\"\n",
    "        ), \n",
    "        partial(\n",
    "            my_pow, exponant=2\n",
    "        )\n",
    "    )\n",
    ")"
   ]
  },
  {
   "cell_type": "markdown",
   "metadata": {},
   "source": [
    "---\n",
    "### Itertools package"
   ]
  },
  {
   "attachments": {},
   "cell_type": "markdown",
   "metadata": {},
   "source": [
    "To są przykłady iteratorów:;;;;"
   ]
  },
  {
   "cell_type": "code",
   "execution_count": 25,
   "metadata": {},
   "outputs": [
    {
     "name": "stdout",
     "output_type": "stream",
     "text": [
      "[('A', 'A'), ('A', 'B'), ('A', 'C'), ('A', 'D'), ('B', 'A'), ('B', 'B'), ('B', 'C'), ('B', 'D'), ('C', 'A'), ('C', 'B'), ('C', 'C'), ('C', 'D'), ('D', 'A'), ('D', 'B'), ('D', 'C'), ('D', 'D')]\n"
     ]
    }
   ],
   "source": [
    "from itertools import product\n",
    "\n",
    "print (list(product('ABCD', repeat=2)))\n",
    "\n",
    "#iloczyn kartezjański"
   ]
  },
  {
   "cell_type": "code",
   "execution_count": 26,
   "metadata": {},
   "outputs": [
    {
     "name": "stdout",
     "output_type": "stream",
     "text": [
      "[('A', 'B'), ('A', 'C'), ('A', 'D'), ('B', 'A'), ('B', 'C'), ('B', 'D'), ('C', 'A'), ('C', 'B'), ('C', 'D'), ('D', 'A'), ('D', 'B'), ('D', 'C')]\n"
     ]
    }
   ],
   "source": [
    "from itertools import permutations\n",
    "\n",
    "print (list(permutations('ABCD',  2))) # permutacje - losowanie z powtórzeniami"
   ]
  },
  {
   "cell_type": "code",
   "execution_count": 27,
   "metadata": {},
   "outputs": [
    {
     "name": "stdout",
     "output_type": "stream",
     "text": [
      "[('A', 'B'), ('A', 'C'), ('A', 'D'), ('B', 'C'), ('B', 'D'), ('C', 'D')]\n"
     ]
    }
   ],
   "source": [
    "from itertools import combinations\n",
    "\n",
    "print (list(combinations('ABCD',  2)))  # kombinacje - losowanie bez powtórzeń"
   ]
  },
  {
   "cell_type": "code",
   "execution_count": 28,
   "metadata": {},
   "outputs": [],
   "source": [
    "from itertools import dropwhile, chain, starmap, takewhile"
   ]
  },
  {
   "cell_type": "code",
   "execution_count": 29,
   "metadata": {},
   "outputs": [
    {
     "data": {
      "text/plain": [
       "[6, 4, 1]"
      ]
     },
     "execution_count": 29,
     "metadata": {},
     "output_type": "execute_result"
    }
   ],
   "source": [
    "list(dropwhile(lambda x: x<5, [1,4,6,4,1]))# obcina listę aż do momentu kiedy predykator przestaje byc spełniony"
   ]
  },
  {
   "cell_type": "code",
   "execution_count": 30,
   "metadata": {},
   "outputs": [
    {
     "data": {
      "text/plain": [
       "['A', 'B', 'C', 'D', 'E', 'F']"
      ]
     },
     "execution_count": 30,
     "metadata": {},
     "output_type": "execute_result"
    }
   ],
   "source": [
    "list(chain('ABC', 'DEF')) # skleja "
   ]
  },
  {
   "cell_type": "code",
   "execution_count": 31,
   "metadata": {},
   "outputs": [
    {
     "data": {
      "text/plain": [
       "[32, 9, 1000]"
      ]
     },
     "execution_count": 31,
     "metadata": {},
     "output_type": "execute_result"
    }
   ],
   "source": [
    "list(starmap(pow, [(2,5), (3,2), (10,3)]))"
   ]
  },
  {
   "cell_type": "code",
   "execution_count": 32,
   "metadata": {},
   "outputs": [
    {
     "data": {
      "text/plain": [
       "[1, 4]"
      ]
     },
     "execution_count": 32,
     "metadata": {},
     "output_type": "execute_result"
    }
   ],
   "source": [
    "list(takewhile(lambda x: x<5, [1,4,6,4,1])) # obcina liste do momentu aż wreszcie predykat zostanie spełniony"
   ]
  },
  {
   "cell_type": "code",
   "execution_count": 33,
   "metadata": {},
   "outputs": [
    {
     "data": {
      "text/plain": [
       "[('a', 0), ('b', 1), ('c', 2), ('d', 3)]"
      ]
     },
     "execution_count": 33,
     "metadata": {},
     "output_type": "execute_result"
    }
   ],
   "source": [
    "list(zip(\"abcd\",range(4)))"
   ]
  },
  {
   "cell_type": "markdown",
   "metadata": {},
   "source": [
    "---"
   ]
  },
  {
   "cell_type": "markdown",
   "metadata": {},
   "source": [
    "# Dekoratory"
   ]
  },
  {
   "cell_type": "markdown",
   "metadata": {},
   "source": [
    "```python\n",
    "@dec2\n",
    "@dec1\n",
    "def func(arg1, arg2, ...):\n",
    "    pass\n",
    "\n",
    "# is the same as:\n",
    "\n",
    "def func(arg1, arg2, ...):\n",
    "    pass\n",
    "\n",
    "func = dec2(dec1(func))\n",
    "```"
   ]
  },
  {
   "cell_type": "code",
   "execution_count": 34,
   "metadata": {},
   "outputs": [
    {
     "name": "stdout",
     "output_type": "stream",
     "text": [
      "Entering func1\n",
      "inside func1()\n",
      "Exited func1\n"
     ]
    }
   ],
   "source": [
    "def entryExit(f):\n",
    "    def new_f():\n",
    "        print (\"Entering\", f.__name__)\n",
    "        f()\n",
    "        print (\"Exited\", f.__name__)\n",
    "    return new_f\n",
    "\n",
    "@entryExit\n",
    "def func1():\n",
    "    print (\"inside func1()\")\n",
    "    return \n",
    "    \n",
    "func1()"
   ]
  },
  {
   "cell_type": "code",
   "execution_count": 35,
   "metadata": {},
   "outputs": [
    {
     "name": "stdout",
     "output_type": "stream",
     "text": [
      "3628800\n",
      "Total time taken in :  factorial 2.0011956691741943\n"
     ]
    }
   ],
   "source": [
    "import time \n",
    "import math \n",
    "  \n",
    "def calculate_time(func): \n",
    "    def inner1(*args, **kwargs): \n",
    "        begin = time.time() \n",
    "        func(*args, **kwargs) \n",
    "        end = time.time() \n",
    "        print(\"Total time taken in : \", func.__name__, end - begin) \n",
    "    return inner1 \n",
    "  \n",
    "@calculate_time\n",
    "def factorial(num): \n",
    "    time.sleep(2) # zasypiamy na 2 sekundy\n",
    "    print(math.factorial(num)) \n",
    "\n",
    "    \n",
    "factorial(10) # 10! (dziesięć silnia)"
   ]
  },
  {
   "cell_type": "code",
   "execution_count": 36,
   "metadata": {},
   "outputs": [
    {
     "name": "stdout",
     "output_type": "stream",
     "text": [
      "Entering func1\n",
      "inside func1()\n",
      "Exited func1\n",
      "Run times: 1\n",
      "Entering func1\n",
      "inside func1()\n",
      "Exited func1\n",
      "Run times: 2\n",
      "Entering func1\n",
      "inside func1()\n",
      "Exited func1\n",
      "Run times: 3\n"
     ]
    }
   ],
   "source": [
    "class C_entryExit():\n",
    "    def __init__(self, f):\n",
    "        self.f = f\n",
    "        self.n = 0\n",
    "    def __call__(self):\n",
    "        self.n+=1\n",
    "        print (\"Entering\", self.f.__name__)\n",
    "        self.f()\n",
    "        print (\"Exited\", self.f.__name__)\n",
    "        print (\"Run times:\", self.n)\n",
    "\n",
    "@C_entryExit\n",
    "def func1():\n",
    "    print (\"inside func1()\")\n",
    "    \n",
    "func1()\n",
    "func1()\n",
    "func1()"
   ]
  },
  {
   "cell_type": "markdown",
   "metadata": {},
   "source": [
    "```python\n",
    "@decorator(arg)\n",
    "f()\n",
    "\n",
    "# to samo co:\n",
    "\n",
    "\n",
    "f = (decorator(arg))(f)\n",
    "```"
   ]
  },
  {
   "cell_type": "code",
   "execution_count": 37,
   "metadata": {},
   "outputs": [],
   "source": [
    "from functools import wraps\n",
    "def user_has_permission(permission):\n",
    "    return permission=='ADMIN'\n",
    "\n",
    "class PermissionException(Exception):\n",
    "    def __init__(self, message):\n",
    "        super().__init__(message)\n",
    "\n",
    "def authorize(permission=None):\n",
    "    def _authorize(_func):\n",
    "        @wraps(_func)\n",
    "        def wrapper(*args, **kwargs):\n",
    "            if permission:\n",
    "                if user_has_permission(permission):\n",
    "                    return _func(*args, **kwargs)\n",
    "                else:\n",
    "                    raise PermissionException(f\"No {permission} rights\")\n",
    "        return wrapper\n",
    "    return _authorize\n",
    "                "
   ]
  },
  {
   "cell_type": "code",
   "execution_count": 38,
   "metadata": {},
   "outputs": [],
   "source": [
    "@authorize(\"ADMIN\")\n",
    "def f():\n",
    "    print(\"I am ROOT\")\n",
    "    \n",
    "@authorize(\"SUPERADMIN\")\n",
    "def g():\n",
    "    print(\"I am GROOT\")"
   ]
  },
  {
   "cell_type": "code",
   "execution_count": 39,
   "metadata": {},
   "outputs": [
    {
     "name": "stdout",
     "output_type": "stream",
     "text": [
      "I am ROOT\n"
     ]
    }
   ],
   "source": [
    "f()"
   ]
  },
  {
   "cell_type": "code",
   "execution_count": 40,
   "metadata": {},
   "outputs": [
    {
     "ename": "PermissionException",
     "evalue": "No SUPERADMIN rights",
     "output_type": "error",
     "traceback": [
      "\u001b[1;31m---------------------------------------------------------------------------\u001b[0m",
      "\u001b[1;31mPermissionException\u001b[0m                       Traceback (most recent call last)",
      "Cell \u001b[1;32mIn [40], line 1\u001b[0m\n\u001b[1;32m----> 1\u001b[0m g()\n",
      "Cell \u001b[1;32mIn [37], line 17\u001b[0m, in \u001b[0;36mauthorize.<locals>._authorize.<locals>.wrapper\u001b[1;34m(*args, **kwargs)\u001b[0m\n\u001b[0;32m     15\u001b[0m     \u001b[39mreturn\u001b[39;00m _func(\u001b[39m*\u001b[39margs, \u001b[39m*\u001b[39m\u001b[39m*\u001b[39mkwargs)\n\u001b[0;32m     16\u001b[0m \u001b[39melse\u001b[39;00m:\n\u001b[1;32m---> 17\u001b[0m     \u001b[39mraise\u001b[39;00m PermissionException(\u001b[39mf\u001b[39m\u001b[39m\"\u001b[39m\u001b[39mNo \u001b[39m\u001b[39m{\u001b[39;00mpermission\u001b[39m}\u001b[39;00m\u001b[39m rights\u001b[39m\u001b[39m\"\u001b[39m)\n",
      "\u001b[1;31mPermissionException\u001b[0m: No SUPERADMIN rights"
     ]
    }
   ],
   "source": [
    "g() # Błąd!!"
   ]
  },
  {
   "cell_type": "code",
   "execution_count": 41,
   "metadata": {},
   "outputs": [
    {
     "name": "stdout",
     "output_type": "stream",
     "text": [
      "f\n"
     ]
    }
   ],
   "source": [
    "print(f.__name__)"
   ]
  },
  {
   "cell_type": "markdown",
   "metadata": {},
   "source": [
    "---\n",
    "\n",
    "# Różniczkowanie numeryczne korzystając z dekoratorów\n",
    "\n",
    "### <span style=\"color: cyan\">Epsilon maszynowy</span> to różnica między `1` a następną liczbą zmiennoprzecinkową\n",
    "\n"
   ]
  },
  {
   "cell_type": "code",
   "execution_count": 43,
   "metadata": {},
   "outputs": [
    {
     "data": {
      "text/plain": [
       "2.220446049250313e-16"
      ]
     },
     "execution_count": 43,
     "metadata": {},
     "output_type": "execute_result"
    }
   ],
   "source": [
    "# chcemy policzyć jaki jest epsilon maszynowy\n",
    "\n",
    "epsilon = 1.0 \n",
    "while (1.0 + 0.5 * epsilon) != 1.0:\n",
    "    epsilon = 0.5 * epsilon\n",
    "\n",
    "epsilon"
   ]
  },
  {
   "cell_type": "code",
   "execution_count": 44,
   "metadata": {},
   "outputs": [
    {
     "name": "stdout",
     "output_type": "stream",
     "text": [
      "2.220446049250313e-16\n"
     ]
    }
   ],
   "source": [
    "# tu robimy to samo tylko prościej, liczymy z pomocą numpy \n",
    "import numpy as np\n",
    "\n",
    "print(np.finfo(float).eps)"
   ]
  },
  {
   "cell_type": "code",
   "execution_count": 45,
   "metadata": {},
   "outputs": [
    {
     "data": {
      "text/plain": [
       "2.220446049250313e-16"
      ]
     },
     "execution_count": 45,
     "metadata": {},
     "output_type": "execute_result"
    }
   ],
   "source": [
    "np.power(2.0,-52) # liczba dla ktorej istnieje najmniejsza możliwa różnica między nią a 1"
   ]
  },
  {
   "cell_type": "markdown",
   "metadata": {},
   "source": [
    "## Pochodne funkcji\n",
    "\n",
    "$$\n",
    " f'(x) = \\lim_{ \\epsilon \\to 0} \\frac{f(x+\\epsilon) -f(x)}{\\epsilon}\n",
    "$$\n",
    "\n",
    "\n",
    "![Differential](img/Derivative.svg.png)\n",
    "\n",
    "https://en.wikipedia.org/wiki/Numerical_differentiation\n",
    "\n",
    "$$\n",
    "f'(x) \\approx \\frac{f(x+h) -f(x)}{h}\n",
    "$$\n",
    "\n",
    "## Lepiej:\n",
    "\n",
    "$$\n",
    "f'(x) \\approx \\frac{f(x+h) - f(x-h)}{2h}\n",
    "$$\n",
    "\n",
    "## Definicja `h`\n",
    "$$\n",
    "h = \\sqrt\\epsilon \\, |x|\n",
    "$$\n",
    "\n",
    "## Albo (dla uniknięcia dzielenia przez `0`)\n",
    "\n",
    "$$\n",
    "h = \\sqrt\\epsilon \\; max(\\,|x|\\,+\\sqrt\\epsilon\\,)\n",
    "$$\n",
    "\n"
   ]
  },
  {
   "cell_type": "code",
   "execution_count": 46,
   "metadata": {},
   "outputs": [],
   "source": [
    "import numpy as np\n",
    "\n",
    "eps = np.finfo(float).eps\n",
    "sqrteps = np.sqrt(eps)\n",
    "\n",
    "def derivative(f):\n",
    "    def inner(x):        \n",
    "        h = sqrteps * max( abs(x), sqrteps )\n",
    "        return ( f(x+h) - f(x-h) ) / (2*h)\n",
    "    return inner\n",
    "\n",
    "@derivative    \n",
    "def square(x):\n",
    "    return x*x"
   ]
  },
  {
   "cell_type": "code",
   "execution_count": 47,
   "metadata": {},
   "outputs": [
    {
     "data": {
      "text/plain": [
       "2.0"
      ]
     },
     "execution_count": 47,
     "metadata": {},
     "output_type": "execute_result"
    }
   ],
   "source": [
    "square(1)"
   ]
  },
  {
   "cell_type": "code",
   "execution_count": 48,
   "metadata": {
    "tags": []
   },
   "outputs": [
    {
     "data": {
      "image/png": "[encoded data removed]",
      "text/plain": [
       "<Figure size 1600x600 with 1 Axes>"
      ]
     },
     "metadata": {},
     "output_type": "display_data"
    }
   ],
   "source": [
    "%matplotlib inline\n",
    "import matplotlib.pyplot as plt\n",
    "import numpy as np\n",
    "import matplotlib.ticker as tck\n",
    "\n",
    "fig = plt.figure(figsize=(16,6))\n",
    "plt.style.use(\"dark_background\")\n",
    "ax = fig.gca()\n",
    "plt.rc('grid', linestyle=\"-\", color='white')\n",
    "x = np.linspace(-0.5, 2, 100)\n",
    "plt.grid(True)\n",
    "ax.set_yticks(np.arange(0, 1., 2))\n",
    "\n",
    "ax.xaxis.grid(True,'major',linewidth=1)\n",
    "ax.yaxis.grid(True,'minor',linewidth=1)\n",
    "ax.xaxis.grid(True,'major',linestyle=\"--\")\n",
    "\n",
    "ax.xaxis.set_major_formatter(tck.FormatStrFormatter('%g $\\pi$'))\n",
    "ax.xaxis.set_major_locator(tck.MultipleLocator(base=0.5))\n",
    "\n",
    "line, = plt.plot(x, np.sin(x*np.pi))\n",
    "line.set_label('sin(x)')\n",
    "line, = plt.plot(x, np.cos(x*np.pi))\n",
    "line.set_label('cos(x)')\n",
    "ax.legend();\n"
   ]
  },
  {
   "cell_type": "code",
   "execution_count": 49,
   "metadata": {},
   "outputs": [],
   "source": [
    "@derivative    \n",
    "def sine_derivative(x): # tworzymy funkcje pochodna sinusa\n",
    "    return np.sin(x)"
   ]
  },
  {
   "cell_type": "code",
   "execution_count": 50,
   "metadata": {},
   "outputs": [
    {
     "data": {
      "text/plain": [
       "0.0"
      ]
     },
     "execution_count": 50,
     "metadata": {},
     "output_type": "execute_result"
    }
   ],
   "source": [
    "sine_derivative(np.pi/2)"
   ]
  },
  {
   "cell_type": "code",
   "execution_count": 51,
   "metadata": {},
   "outputs": [
    {
     "data": {
      "text/plain": [
       "1.0"
      ]
     },
     "execution_count": 51,
     "metadata": {},
     "output_type": "execute_result"
    }
   ],
   "source": [
    "sine_derivative(0)"
   ]
  },
  {
   "cell_type": "markdown",
   "metadata": {},
   "source": [
    "https://realpython.com/primer-on-python-decorators/#more-real-world-examples"
   ]
  }
 ],
 "metadata": {
  "kernelspec": {
   "display_name": "Python 3",
   "language": "python",
   "name": "python3"
  },
  "language_info": {
   "codemirror_mode": {
    "name": "ipython",
    "version": 3
   },
   "file_extension": ".py",
   "mimetype": "text/x-python",
   "name": "python",
   "nbconvert_exporter": "python",
   "pygments_lexer": "ipython3",
   "version": "3.10.2"
  },
  "vscode": {
   "interpreter": {
    "hash": "47e86d731e077963188d400b641a1f5cee6401b89b8a1175acb1a082248e2517"
   }
  }
 },
 "nbformat": 4,
 "nbformat_minor": 4
}
