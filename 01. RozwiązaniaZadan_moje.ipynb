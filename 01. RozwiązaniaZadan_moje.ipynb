{
 "cells": [
  {
   "attachments": {},
   "cell_type": "markdown",
   "metadata": {},
   "source": [
    "Zadania z 01.Python_Wprowadzenie_1z2"
   ]
  },
  {
   "cell_type": "markdown",
   "metadata": {},
   "source": [
    "### Zadanie 1"
   ]
  },
  {
   "cell_type": "markdown",
   "metadata": {},
   "source": [
    "Napisać funkcję co policzy ilość wystąpień na liście (czyli zamienić listę na słownik)\n",
    "\n",
    "Przykład:<br>\n",
    "zlicz( [1, 2, 3, 4, 1, 2, 1] )\n",
    "\n",
    "{ 1: 3, 2: 2, 3: 1, 4: 1 }"
   ]
  },
  {
   "cell_type": "code",
   "execution_count": 2,
   "metadata": {},
   "outputs": [],
   "source": [
    "# I sposób\n",
    "\n",
    "def zlicz (lista):\n",
    "    \n",
    "    # lista.sort() - nie jest potrzebne ostatecznie (a na listach ze stringami metoda sort nie działa)\n",
    "    \n",
    "    klucze = list(set(lista))\n",
    "    wartosci = list(0 for x in range(len(set(lista))))\n",
    "    \n",
    "    for j in range(len(klucze)):\n",
    "        for i in lista:\n",
    "            if i == klucze[j]:\n",
    "                wartosci[j] += 1\n",
    "    \n",
    "    slownik = dict(zip(klucze, wartosci))\n",
    "    \n",
    "    return slownik\n",
    "       "
   ]
  },
  {
   "cell_type": "code",
   "execution_count": 3,
   "metadata": {},
   "outputs": [
    {
     "name": "stdout",
     "output_type": "stream",
     "text": [
      "{1: 2, 3: 2, 4: 3, 5: 3, 6: 2, 7: 3, 8: 1}\n",
      "{'f': 1, 'g': 2, 'a': 2, 's': 1}\n",
      "{'D': 1, 3: 1, 6: 1, 'H': 2, 'd': 2, 'a': 1, 'A': 1, 'j': 1}\n"
     ]
    }
   ],
   "source": [
    "# Przykłady\n",
    "\n",
    "l = [1,4,7,8,5,6,3,4,5,6,7,1,3,5,7,4]\n",
    "k = ['a','f','g','s','g','a']\n",
    "m = ['a', 'A', 'H', 'H', 'd', 'D','d', 3, 6, 'j']\n",
    "print(zlicz(l))\n",
    "print(zlicz(k))\n",
    "print(zlicz(m))"
   ]
  },
  {
   "cell_type": "code",
   "execution_count": 4,
   "metadata": {},
   "outputs": [],
   "source": [
    "# II sposób\n",
    "\n",
    "def zlicz2(lista):\n",
    "        \n",
    "    klucze = list(set(lista))\n",
    "    wartosci = list(0 for x in range(len(set(lista))))\n",
    "    \n",
    "    for j in range(len(klucze)):\n",
    "        wartosci[j] = lista.count(klucze[j])\n",
    "\n",
    "    slownik = dict(zip(klucze, wartosci))\n",
    "    \n",
    "    return slownik\n",
    "       "
   ]
  },
  {
   "cell_type": "code",
   "execution_count": 5,
   "metadata": {},
   "outputs": [
    {
     "name": "stdout",
     "output_type": "stream",
     "text": [
      "{1: 2, 3: 2, 4: 3, 5: 3, 6: 2, 7: 3, 8: 1}\n",
      "{'f': 1, 'g': 2, 'a': 2, 's': 1}\n",
      "{'D': 1, 3: 1, 6: 1, 'H': 2, 'd': 2, 'a': 1, 'A': 1, 'j': 1}\n"
     ]
    }
   ],
   "source": [
    "# Przykłady\n",
    "\n",
    "l = [1,4,7,8,5,6,3,4,5,6,7,1,3,5,7,4]\n",
    "k = ['a','f','g','s','g','a']\n",
    "m = ['a', 'A', 'H', 'H', 'd', 'D','d', 3, 6, 'j']\n",
    "print(zlicz2(l))\n",
    "print(zlicz2(k))\n",
    "print(zlicz2(m))"
   ]
  },
  {
   "cell_type": "code",
   "execution_count": 2,
   "metadata": {},
   "outputs": [],
   "source": [
    "# III sposób\n",
    "\n",
    "def zlicz3(lista):\n",
    "    \n",
    "    slownik = {i: lista.count(i) for i in set(lista)} # z dopiskiem set być może jest bardziej wydajnościowo, bo iteruje po mniejszej liczbie elemntów (?)\n",
    "    \n",
    "    return slownik"
   ]
  },
  {
   "cell_type": "code",
   "execution_count": 3,
   "metadata": {},
   "outputs": [
    {
     "name": "stdout",
     "output_type": "stream",
     "text": [
      "{1: 2, 3: 2, 4: 3, 5: 3, 6: 2, 7: 3, 8: 1}\n",
      "{'a': 2, 'g': 2, 's': 1, 'f': 1}\n",
      "{'a': 1, 3: 1, 'd': 2, 6: 1, 'H': 2, 'A': 1, 'D': 1, 'j': 1}\n"
     ]
    },
    {
     "data": {
      "text/plain": [
       "{0: 3, 1: 2, 'g': 1, 'k': 1, 'F': 2}"
      ]
     },
     "execution_count": 3,
     "metadata": {},
     "output_type": "execute_result"
    }
   ],
   "source": [
    "#przykłady\n",
    "\n",
    "l = [1,4,7,8,5,6,3,4,5,6,7,1,3,5,7,4]\n",
    "k = ['a','f','g','s','g','a']\n",
    "m = ['a', 'A', 'H', 'H', 'd', 'D','d', 3, 6, 'j']\n",
    "print(zlicz3(l))\n",
    "print(zlicz3(k))\n",
    "print(zlicz3(m))\n",
    "\n",
    "zlicz3([0, 0, 'k', 1, 'F', 'g', 'F', 1, 0])"
   ]
  },
  {
   "cell_type": "markdown",
   "metadata": {},
   "source": [
    "### Zadanie 2"
   ]
  },
  {
   "cell_type": "markdown",
   "metadata": {},
   "source": [
    "Posortować `dluga_lista` po wartości bezwględnej elementów listy interpretowanych jako wartość całkowita"
   ]
  },
  {
   "cell_type": "code",
   "execution_count": 8,
   "metadata": {},
   "outputs": [],
   "source": [
    "dluga_lista = [ str(i) for i in range(21)] + [ str(i) for i in range(-1, -21, -1)]"
   ]
  },
  {
   "cell_type": "code",
   "execution_count": 9,
   "metadata": {},
   "outputs": [
    {
     "data": {
      "text/plain": [
       "'[0, 1, 1, 2, 2, 3, 3, 4, 4, 5, 5, 6, 6, 7, 7, 8, 8, 9, 9, 10, 10, 11, 11, 12, 12, 13, 13, 14, 14, 15, 15, 16, 16, 17, 17, 18, 18, 19, 19, 20, 20]'"
      ]
     },
     "execution_count": 9,
     "metadata": {},
     "output_type": "execute_result"
    }
   ],
   "source": [
    "def sortuj(lista):    \n",
    "    for i in range(len(lista)):\n",
    "        lista[i] = abs(int(lista[i]))\n",
    "\n",
    "    lista.sort()\n",
    "    return lista\n",
    "\n",
    "\n",
    "str(sortuj(dluga_lista)) # str, żeby lepiej zobaczyć"
   ]
  },
  {
   "cell_type": "markdown",
   "metadata": {},
   "source": [
    "### Zadanie 3"
   ]
  },
  {
   "cell_type": "code",
   "execution_count": null,
   "metadata": {},
   "outputs": [],
   "source": [
    "Napisać funkcję co wypisze choinkę o odpowiedniej wysokości\n",
    "\n",
    "Przykład:\n",
    "choinka(7)\n",
    "\n",
    "       *\n",
    "      ***\n",
    "     *****\n",
    "    *******\n",
    "   *********\n",
    "  ***********\n",
    " *************\n",
    "       *\n",
    "      ***\n",
    "\n",
    "choinka(4)\n",
    "        \n",
    "    *\n",
    "   ***\n",
    "  *****\n",
    " *******\n",
    "    *\n",
    "   ***"
   ]
  },
  {
   "cell_type": "code",
   "execution_count": 12,
   "metadata": {},
   "outputs": [],
   "source": [
    "def choinka(poziom):\n",
    "    \n",
    "    p = poziom    \n",
    "    n = 1\n",
    "    \n",
    "    while n <= p:\n",
    "        print(poziom*\" \" + n * \"*\" + (n-1) * \"*\")\n",
    "        n += 1\n",
    "        poziom -= 1\n",
    "        \n",
    "    print((n-1)*\" \"+ \"*\")\n",
    "    print((n-2)*\" \"+ \"***\")         \n",
    "            "
   ]
  },
  {
   "cell_type": "code",
   "execution_count": 13,
   "metadata": {},
   "outputs": [
    {
     "name": "stdout",
     "output_type": "stream",
     "text": [
      "        *\n",
      "       ***\n",
      "      *****\n",
      "     *******\n",
      "    *********\n",
      "   ***********\n",
      "  *************\n",
      " ***************\n",
      "        *\n",
      "       ***\n",
      "    *\n",
      "   ***\n",
      "  *****\n",
      " *******\n",
      "    *\n",
      "   ***\n"
     ]
    }
   ],
   "source": [
    "choinka(8)\n",
    "choinka(4)"
   ]
  },
  {
   "attachments": {},
   "cell_type": "markdown",
   "metadata": {},
   "source": [
    "### Zadanie 4"
   ]
  },
  {
   "cell_type": "markdown",
   "metadata": {},
   "source": [
    "Wygenerować listę liczb z zakresu `1-1000` które nie są podzielne przez żadną cyfrę od `2` do `9`."
   ]
  },
  {
   "cell_type": "code",
   "execution_count": 72,
   "metadata": {},
   "outputs": [
    {
     "name": "stdout",
     "output_type": "stream",
     "text": [
      "4\n",
      "range(0, 4)\n",
      "[0, 1, 2, 3]\n"
     ]
    }
   ],
   "source": [
    "# jak działa?\n",
    "\n",
    "print(len([3,6,5,7]))\n",
    "print(range(len([3,6,5,7])))\n",
    "print(list(range(len([3,6,5,7]))))"
   ]
  },
  {
   "cell_type": "code",
   "execution_count": 66,
   "metadata": {},
   "outputs": [
    {
     "name": "stdout",
     "output_type": "stream",
     "text": [
      "[151, 767, 191, 251, 653]\n",
      "[397, 13, 451, 227, 283, 463, 853, 751, 899, 671, 59, 449, 713, 149, 823, 29, 107, 577, 709, 529]\n",
      "[757, 137, 631, 961, 923, 583, 139, 397, 593, 583, 971, 239, 103, 481, 109, 629, 89, 299, 233, 529, 103, 487, 283, 661, 43, 17, 877, 769, 689, 571, 811, 401, 149, 79, 779, 53, 563, 787, 377, 827, 857, 311, 271, 557, 353, 79, 559, 367, 391, 137, 443, 47, 649, 649, 647, 211, 179, 731, 751, 341, 601, 251, 19, 533, 263, 949, 883, 221, 223, 803, 619, 871, 659, 439, 257, 947, 943, 997, 803, 401, 31, 247, 551, 367, 439, 701, 277, 697, 449, 473, 239, 731, 113, 689, 947, 617, 299, 677, 971, 353]\n"
     ]
    }
   ],
   "source": [
    "import random\n",
    "\n",
    "lista = list(range(1001))\n",
    "\n",
    "for i in range(2, 10):\n",
    "    lista = list(filter(lambda z: (z % i) != 0, lista))\n",
    "\n",
    "# ile - ile liczb ma się znaleźć w wygenerowanej liście\n",
    "\n",
    "def generuj(ile):\n",
    "    \n",
    "    lista_zwracana = []\n",
    "    for i in range(ile):\n",
    "        x = random.choice(lista)\n",
    "        lista_zwracana.append(x)            \n",
    "        \n",
    "    return lista_zwracana\n",
    "\n",
    "print(generuj(5))\n",
    "print(generuj(20))\n",
    "print(generuj(100))\n"
   ]
  },
  {
   "cell_type": "code",
   "execution_count": 67,
   "metadata": {},
   "outputs": [],
   "source": [
    "\n",
    "# to sobie napisałam, żeby sprawdzić czy na pewno generuje elementy z listy:\n",
    "\n",
    "for i in generuj(100000):\n",
    "    if i in lista:\n",
    "        # print(\"oki\")\n",
    "        continue\n",
    "    else:\n",
    "        print(\"sth wrong\")"
   ]
  },
  {
   "cell_type": "markdown",
   "metadata": {},
   "source": [
    "### Zadanie 5"
   ]
  },
  {
   "attachments": {},
   "cell_type": "markdown",
   "metadata": {},
   "source": [
    "to zadanie powinno być usprawnione (kod mółby być zupełnie inaczej napisany, lepiej) + drobne błędy w tym co jest (brak odmiany tysięcy oraz powstarzajcące się spacje)"
   ]
  },
  {
   "cell_type": "code",
   "execution_count": null,
   "metadata": {},
   "outputs": [],
   "source": [
    "\n",
    "Napisać funkcję co wypisze liczbę naturalną słownie dla liczb od 0 do 999999.\n",
    "\n",
    "slownie(1984)\n",
    "'tysiąc dziewięćset osiemdziesiąt cztery'\n",
    "\n",
    "Wskazówki: \n",
    "- podzielić na wiele prostych funkcji \n",
    "- skorzystać z dzielenia całkowitego (//) i modulo (%)\n",
    "- \"if-else\"\n"
   ]
  },
  {
   "cell_type": "code",
   "execution_count": 1,
   "metadata": {},
   "outputs": [
    {
     "name": "stdout",
     "output_type": "stream",
     "text": [
      "dwieście sześćdziesiąt siedem\n",
      "dziewięćset  \n",
      "dziewięćset jedenaście\n",
      " osiemdziesiąt jeden tysięcy dziewięćset dwadzieścia trzy\n",
      "osiemset dwadzieścia pięć tysięcy sześćset dwadzieścia dziewięć\n",
      "czterysta trzydzieści cztery tysięcy osiemset jedenaście \n",
      " trzydzieści dwa tysięcy sto dwadzieścia osiem\n",
      "dziewięćset dziewięćdziesiąt sześć tysięcy osiemset piętnaście\n",
      "osiemset siedemdziesiąt pięć tysięcy dziewięćset dwadzieścia cztery\n",
      "dwieście dziewięćdziesiąt jeden tysięcy  siedemdziesiąt siedem\n",
      "siedemset sześćdziesiąt pięć tysięcy siedemset dwadzieścia pięć\n",
      "osiemset sześćdziesiąt cztery tysięcy dziewięćset osiemdziesiąt jeden\n",
      "sto siedemdziesiąt trzy tysięcy dwieście siedemdziesiąt jeden\n"
     ]
    }
   ],
   "source": [
    "import random\n",
    "\n",
    "def trzon(x):\n",
    "    \n",
    "    if x == 0:\n",
    "        y =\"\"\n",
    "    if x == 1:\n",
    "        y = \"jeden\"\n",
    "    elif x == 2:\n",
    "        y = \"dwa\"\n",
    "    elif x == 3:\n",
    "        y = \"trzy\"\n",
    "    elif x == 4:\n",
    "        y = \"cztery\"\n",
    "    elif x == 5:\n",
    "        y = \"pięć\"\n",
    "    elif x == 6:\n",
    "        y = \"sześć\"\n",
    "    elif x == 7:\n",
    "        y = \"siedem\"\n",
    "    elif x == 8:\n",
    "        y = \"osiem\"\n",
    "    elif x == 9:\n",
    "        y = \"dziewięć\"\n",
    "    return y\n",
    "\n",
    "def naste(x):\n",
    "    if x == 1:\n",
    "        y = \"jedenaście\"\n",
    "    elif x == 4:\n",
    "        y = \"czternaście\"  \n",
    "    elif x ==5:\n",
    "        y = \"piętnaście\"\n",
    "    elif x == 6:\n",
    "        y = \"szesnaście\"\n",
    "    elif x == 9:\n",
    "        y = \"dziewiętnaście\"\n",
    "    else:\n",
    "        y = f\"{trzon(x)}naście\"       \n",
    "    return y    \n",
    "        \n",
    "def dziesietne(x):\n",
    "    if x == 0:\n",
    "        y = \"\"\n",
    "    elif x == 1 and x % 10 == 0:\n",
    "        y = \"dziesięć\"\n",
    "    elif x == 1 and x % 10 != 0:\n",
    "        y = naste(x % 10)\n",
    "    elif x == 2:\n",
    "        y = \"dwadzieścia\"\n",
    "    elif x == 3:\n",
    "        y = f\"{trzon(x)}dzieści\"\n",
    "    elif x == 4:\n",
    "        y = \"czterdzieści\"\n",
    "    else:\n",
    "        y = f\"{trzon(x)}dziesiąt\"       \n",
    "    return y\n",
    "\n",
    "def setne(x):\n",
    "    if x ==  0:\n",
    "        y= \"\"\n",
    "    elif x == 1:\n",
    "        y = \"sto\"\n",
    "    elif x == 2:\n",
    "        y = \"dwieście\"\n",
    "    elif x == 3 or x == 4:\n",
    "        y = f\"{trzon(x)}sta\"  \n",
    "    else:\n",
    "        y = f\"{trzon(x)}set\"        \n",
    "    return y\n",
    "\n",
    "# for i in range (1,10):\n",
    "#     print(trzon(i))\n",
    "\n",
    "# for i in range (1,10):\n",
    "#     print(naste(i))\n",
    "    \n",
    "# for i in range (1,10):\n",
    "#     print(dziesietne(i))\n",
    "\n",
    "# for i in range (1,10):\n",
    "#     print(setne(i))\n",
    "\n",
    "def slownie0(x):\n",
    "    \n",
    "    ile_setek = x // 100\n",
    "    x -= ile_setek *100\n",
    "    \n",
    "    ile_dziesiatek = x // 10\n",
    "    x-= ile_dziesiatek *10\n",
    "    \n",
    "    if ile_dziesiatek == 1 and x != 0:\n",
    "        y = str(f\"{setne(ile_setek)} {naste(x)}\")    \n",
    "    else:\n",
    "        y = str(f\"{setne(ile_setek)} {dziesietne(ile_dziesiatek)} {trzon(x)}\")    \n",
    "    \n",
    "    return y\n",
    "\n",
    "print(slownie0(267))\n",
    "print(slownie0(900))\n",
    "print(slownie0(911))\n",
    "\n",
    "def slownie(x):\n",
    "    \n",
    "    ile_tysiecy = x//1000\n",
    "    x -= ile_tysiecy *1000\n",
    "    \n",
    "    if ile_tysiecy != 0:\n",
    "        y = str(f\"{slownie0(ile_tysiecy)} tysięcy {slownie0(x)}\")\n",
    "    else:\n",
    "        y = str(slownie0(x))\n",
    "    \n",
    "    return y\n",
    "    \n",
    "slownie(999_728)    \n",
    "\n",
    "proba = random.sample(range(999_999),10)\n",
    "\n",
    "for i in proba:\n",
    "    print(slownie(i))\n",
    "            "
   ]
  },
  {
   "attachments": {},
   "cell_type": "markdown",
   "metadata": {},
   "source": [
    "### Zadanie 6"
   ]
  },
  {
   "cell_type": "markdown",
   "metadata": {},
   "source": [
    "Stworz funkcję która usunie (*\"wyplaszczy\"*) zagnieżdzone listy\n",
    "\n",
    "`l = [4, 1, [ 2, [7] ], 3]`\n",
    "\n",
    "`wyplaszcz(l)`\n",
    "\n",
    "`[4, 1, 2, 7, 3]`\n",
    "\n",
    "Podpowiedź: sprawdź co robi funkcja wbudowana `type`"
   ]
  },
  {
   "cell_type": "code",
   "execution_count": 103,
   "metadata": {},
   "outputs": [
    {
     "data": {
      "text/plain": [
       "True"
      ]
     },
     "execution_count": 103,
     "metadata": {},
     "output_type": "execute_result"
    }
   ],
   "source": [
    "# jak działa?\n",
    "\n",
    "isinstance([2,3], list)"
   ]
  },
  {
   "cell_type": "code",
   "execution_count": 111,
   "metadata": {},
   "outputs": [],
   "source": [
    "\n",
    "def wyplaszcz(l):\n",
    "    dalej = True\n",
    "    while dalej == True:\n",
    "        \n",
    "        m = []\n",
    "        for i in l:\n",
    "            \n",
    "            if isinstance(i, list):\n",
    "                for j in i:\n",
    "                    m.append(j)\n",
    "                next\n",
    "            else:\n",
    "                m.append(i)\n",
    "                \n",
    "        l = m\n",
    "        \n",
    "        for i in l:\n",
    "            \n",
    "            if isinstance(i, list) == False:\n",
    "                dalej = False\n",
    "            else:\n",
    "                dalej = True\n",
    "                break\n",
    "            \n",
    "    return l\n"
   ]
  },
  {
   "cell_type": "code",
   "execution_count": 116,
   "metadata": {},
   "outputs": [
    {
     "name": "stdout",
     "output_type": "stream",
     "text": [
      "[4, 1, 2, 7, 3]\n",
      "[1, 1, 1, 1, 1, 1, 1, 1, 6, 7, 46, 2, 56, 7, 3, 7, 9, 10]\n"
     ]
    }
   ],
   "source": [
    "# Przykłady\n",
    "\n",
    "l1 = [4, 1, [ 2, [7] ], 3]\n",
    "l2 = [1,[1, 1, [1, 1 ,1,[1, 1, 6 ,7, [46], [2, 56, 7], 3, 7], 9], 10]]\n",
    "\n",
    "print(wyplaszcz(l1))\n",
    "print(wyplaszcz(l2))\n"
   ]
  }
 ],
 "metadata": {
  "kernelspec": {
   "display_name": "Python 3.10.2 64-bit",
   "language": "python",
   "name": "python3"
  },
  "language_info": {
   "codemirror_mode": {
    "name": "ipython",
    "version": 3
   },
   "file_extension": ".py",
   "mimetype": "text/x-python",
   "name": "python",
   "nbconvert_exporter": "python",
   "pygments_lexer": "ipython3",
   "version": "3.10.2"
  },
  "orig_nbformat": 4,
  "vscode": {
   "interpreter": {
    "hash": "47e86d731e077963188d400b641a1f5cee6401b89b8a1175acb1a082248e2517"
   }
  }
 },
 "nbformat": 4,
 "nbformat_minor": 2
}
